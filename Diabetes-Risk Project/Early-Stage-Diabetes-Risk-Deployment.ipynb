{
 "cells": [
  {
   "cell_type": "code",
   "execution_count": 1,
   "id": "7f1792e0-6897-427c-9cc2-e3d2a9d4be33",
   "metadata": {},
   "outputs": [],
   "source": [
    "import pandas as pd\n",
    "import numpy as np\n",
    "\n",
    "from sklearn.model_selection import train_test_split\n",
    "from sklearn.model_selection import KFold\n",
    "\n",
    "from sklearn.feature_extraction import DictVectorizer\n",
    "from sklearn.linear_model import LogisticRegression\n",
    "from sklearn.metrics import roc_auc_score"
   ]
  },
  {
   "cell_type": "code",
   "execution_count": 2,
   "id": "007b5da9-2e23-4989-bd91-4a3f6504074f",
   "metadata": {},
   "outputs": [],
   "source": [
    "df = pd.read_csv(\"C:\\\\Users\\\\emman\\\\ML-deployment\\\\Captsone project\\\\diabetes_risk_prediction_dataset.csv\")\n",
    "\n",
    "df.columns = df.columns.str.lower().str.replace(' ','_')\n",
    "\n",
    "categorical_columns = list(df.dtypes[df.dtypes == 'object'].index)\n",
    "\n",
    "for c in categorical_columns:\n",
    "    df[c] = df[c].str.lower()\n",
    "\n",
    "df['class'] = (df['class'] == 'positive').astype(int)"
   ]
  },
  {
   "cell_type": "code",
   "execution_count": 3,
   "id": "fffd9429-c2ee-4e19-807b-c4f0feace71a",
   "metadata": {},
   "outputs": [],
   "source": [
    "df_full_train, df_test = train_test_split(df, test_size=0.2, random_state=1)"
   ]
  },
  {
   "cell_type": "code",
   "execution_count": 4,
   "id": "2b700c4a-d14c-4d2f-b6e8-420bf7e11d62",
   "metadata": {},
   "outputs": [],
   "source": [
    "categorical_variables = ['gender', 'polyuria', 'polydipsia', 'sudden_weight_loss','weakness', 'polyphagia', 'genital_thrush', 'visual_blurring',\n",
    "                         'itching', 'irritability', 'delayed_healing', 'partial_paresis','muscle_stiffness', 'alopecia', 'obesity']\n",
    "\n",
    "numerical_variables = ['age']"
   ]
  },
  {
   "cell_type": "code",
   "execution_count": 5,
   "id": "a982a7c5-a900-42d0-bc52-15edd5b52fde",
   "metadata": {},
   "outputs": [],
   "source": [
    "# Training function\n",
    "\n",
    "def train(df_train, y_train, C=1.0):\n",
    "    dicts = df_train[categorical_variables + numerical_variables].to_dict(orient='records')\n",
    "    \n",
    "    dv = DictVectorizer(sparse=False)\n",
    "    X_train = dv.fit_transform(dicts)\n",
    "    \n",
    "    model = LogisticRegression(C=C, max_iter=1000)\n",
    "    model.fit(X_train, y_train)\n",
    "    \n",
    "    return dv, model"
   ]
  },
  {
   "cell_type": "code",
   "execution_count": 6,
   "id": "486c5d1e-ae5b-44bc-8d53-5b7d01c53064",
   "metadata": {},
   "outputs": [],
   "source": [
    "# function for prediction:\n",
    "\n",
    "def predict(df, dv, model):\n",
    "    dicts = df[categorical_variables + numerical_variables].to_dict(orient='records')\n",
    "    \n",
    "    X = dv.transform(dicts)\n",
    "    y_pred = model.predict_proba(X)[:,1]\n",
    "    \n",
    "    return y_pred"
   ]
  },
  {
   "cell_type": "code",
   "execution_count": 7,
   "id": "bd2b5a50-17af-4806-bf83-d4ab1396e137",
   "metadata": {},
   "outputs": [],
   "source": [
    "C = 10\n",
    "n_splits = 5              #we use the values to save our model below because they gave the highest auc score."
   ]
  },
  {
   "cell_type": "code",
   "execution_count": 9,
   "id": "3b9859d3-840c-400d-b223-be6210e9fca9",
   "metadata": {},
   "outputs": [
    {
     "name": "stdout",
     "output_type": "stream",
     "text": [
      "C=10 0.972 +- 0.011\n"
     ]
    }
   ],
   "source": [
    "kfold = KFold(n_splits=n_splits, shuffle=True, random_state=1)\n",
    "\n",
    "scores = []\n",
    "\n",
    "for train_idx, val_idx in kfold.split(df_full_train):\n",
    "    df_train = df_full_train.iloc[train_idx]\n",
    "    df_val = df_full_train.iloc[val_idx]\n",
    "    \n",
    "    y_train = df_train['class'].values\n",
    "    y_val = df_val['class'].values\n",
    "    \n",
    "    dv, model = train(df_train, y_train, C=C)\n",
    "    y_pred = predict(df_val, dv, model)\n",
    "    \n",
    "    auc = roc_auc_score(y_val, y_pred)\n",
    "    scores.append(auc)\n",
    "        \n",
    "print('C=%s %.3f +- %.3f' % (C, np.mean(scores), np.std(scores))) "
   ]
  },
  {
   "cell_type": "code",
   "execution_count": 10,
   "id": "e8e26cf6-8a47-4574-9cf9-e26db0c701ab",
   "metadata": {},
   "outputs": [
    {
     "data": {
      "text/plain": [
       "[0.9732142857142857,\n",
       " 0.9527186761229313,\n",
       " 0.9801920768307323,\n",
       " 0.9693877551020409,\n",
       " 0.9861635220125786]"
      ]
     },
     "execution_count": 10,
     "metadata": {},
     "output_type": "execute_result"
    }
   ],
   "source": [
    "scores"
   ]
  },
  {
   "cell_type": "code",
   "execution_count": 12,
   "id": "40fe4fd9-8ed8-4194-bbf7-522dbcf752e7",
   "metadata": {},
   "outputs": [
    {
     "data": {
      "text/plain": [
       "0.9760765550239234"
      ]
     },
     "execution_count": 12,
     "metadata": {},
     "output_type": "execute_result"
    }
   ],
   "source": [
    "dv, model = train(df_full_train, df_full_train['class'].values, C=10)\n",
    "y_pred = predict(df_test, dv, model)\n",
    "\n",
    "y_test = df_test['class'].values\n",
    "auc = roc_auc_score(y_test, y_pred)\n",
    "auc"
   ]
  },
  {
   "cell_type": "markdown",
   "id": "e5b7d832-356e-4319-ad35-37a7b5169eed",
   "metadata": {},
   "source": [
    "### Save the Model as File"
   ]
  },
  {
   "cell_type": "code",
   "execution_count": 13,
   "id": "cbbdafc9-55d6-4354-82b1-11702545f02c",
   "metadata": {},
   "outputs": [],
   "source": [
    "import pickle"
   ]
  },
  {
   "cell_type": "code",
   "execution_count": 14,
   "id": "2f7dc21d-e6f5-4d1c-adec-f4b5ae0c0b35",
   "metadata": {},
   "outputs": [
    {
     "data": {
      "text/plain": [
       "'model_C=10.bin'"
      ]
     },
     "execution_count": 14,
     "metadata": {},
     "output_type": "execute_result"
    }
   ],
   "source": [
    "output_file = f'model_C={C}.bin'\n",
    "output_file"
   ]
  },
  {
   "cell_type": "code",
   "execution_count": 15,
   "id": "1f6a4f0f-9221-4217-98a6-014581ec419c",
   "metadata": {},
   "outputs": [],
   "source": [
    "with open(output_file, 'wb') as f_out:\n",
    "    pickle.dump((dv, model), f_out)"
   ]
  },
  {
   "cell_type": "markdown",
   "id": "32132ff4-1bde-4a16-b3b2-943599c9781c",
   "metadata": {},
   "source": [
    "### Load the Model  --- restart the kernel before doing this"
   ]
  },
  {
   "cell_type": "code",
   "execution_count": 1,
   "id": "fd4e27ad-1478-4d85-b1b5-bd2c104b4018",
   "metadata": {},
   "outputs": [],
   "source": [
    "import pickle"
   ]
  },
  {
   "cell_type": "code",
   "execution_count": 2,
   "id": "a3d4aadf-d5c3-4b30-97e3-7a51228103be",
   "metadata": {},
   "outputs": [],
   "source": [
    "model_file = 'model_C=10.bin'"
   ]
  },
  {
   "cell_type": "code",
   "execution_count": 3,
   "id": "22d316be-d87d-4ba0-a66d-1f286234ca8b",
   "metadata": {},
   "outputs": [],
   "source": [
    "with open(model_file, 'rb') as f_in:\n",
    "    dv, model = pickle.load(f_in)"
   ]
  },
  {
   "cell_type": "code",
   "execution_count": 4,
   "id": "78f0b641-a80b-45bc-8e75-24e174dcd18f",
   "metadata": {},
   "outputs": [
    {
     "data": {
      "text/plain": [
       "(DictVectorizer(sparse=False), LogisticRegression(C=10, max_iter=1000))"
      ]
     },
     "execution_count": 4,
     "metadata": {},
     "output_type": "execute_result"
    }
   ],
   "source": [
    "dv, model"
   ]
  },
  {
   "cell_type": "code",
   "execution_count": 6,
   "id": "c22aba38-8440-4531-a637-b927ea5e8c7c",
   "metadata": {},
   "outputs": [],
   "source": [
    "patient = {\n",
    "    'gender': 'male',\n",
    "    'polyuria': 'no',\n",
    "    'polydipsia': 'no',\n",
    "    'sudden_weight_loss': 'no',\n",
    "    'weakness': 'yes',\n",
    "    'polyphagia': 'no',\n",
    "    'genital_thrush': 'yes',\n",
    "    'visual_blurring': 'no',\n",
    "    'itching': 'yes',\n",
    "    'irritability': 'no',\n",
    "    'delayed_healing': 'yes',\n",
    "    'partial_paresis': 'no',\n",
    "    'muscle_stiffness': 'no',\n",
    "    'alopecia': 'yes',\n",
    "    'obesity': 'no',\n",
    "    'age': 61}"
   ]
  },
  {
   "cell_type": "code",
   "execution_count": 7,
   "id": "042c327d-1d4e-4c7f-90d1-44071f96bc13",
   "metadata": {},
   "outputs": [],
   "source": [
    "X = dv.transform(patient)"
   ]
  },
  {
   "cell_type": "code",
   "execution_count": 9,
   "id": "74d24ee8-29ca-447c-9133-a0d610a4e1c9",
   "metadata": {},
   "outputs": [
    {
     "data": {
      "text/plain": [
       "0.008195256268653259"
      ]
     },
     "execution_count": 9,
     "metadata": {},
     "output_type": "execute_result"
    }
   ],
   "source": [
    "model.predict_proba(X)[0,1]            # this patient has no risk of early-stage diabetes"
   ]
  },
  {
   "cell_type": "code",
   "execution_count": 18,
   "id": "d99c7e9a-0ee4-41ef-a2ef-ad1274de05a9",
   "metadata": {},
   "outputs": [],
   "source": [
    "patient_1 = {\n",
    "    'gender': 'female',\n",
    "    'polyuria': 'yes',\n",
    "    'polydipsia': 'yes',\n",
    "    'sudden_weight_loss': 'yes',\n",
    "    'weakness': 'no',\n",
    "    'polyphagia': 'yes',\n",
    "    'genital_thrush': 'no',\n",
    "    'visual_blurring': 'yes',\n",
    "    'itching': 'no',\n",
    "    'irritability': 'yes',\n",
    "    'delayed_healing': 'no',\n",
    "    'partial_paresis': 'yes',\n",
    "    'muscle_stiffness': 'yes',\n",
    "    'alopecia': 'no',\n",
    "    'obesity': 'yes',\n",
    "    'age': 30}"
   ]
  },
  {
   "cell_type": "code",
   "execution_count": 19,
   "id": "98cdf0a1-bda1-4bcf-b04c-bc7c05f819d5",
   "metadata": {},
   "outputs": [],
   "source": [
    "X = dv.transform(patient_1)"
   ]
  },
  {
   "cell_type": "code",
   "execution_count": 21,
   "id": "e915bf7e-0288-4d05-9335-68b370155a5c",
   "metadata": {},
   "outputs": [
    {
     "data": {
      "text/plain": [
       "0.9999997473775736"
      ]
     },
     "execution_count": 21,
     "metadata": {},
     "output_type": "execute_result"
    }
   ],
   "source": [
    "model.predict_proba(X)[0,1]            # this patient has high risk of early-stage diabetes"
   ]
  },
  {
   "cell_type": "code",
   "execution_count": null,
   "id": "b71c37e6-a258-4a68-b8de-f53aa8d26581",
   "metadata": {},
   "outputs": [],
   "source": []
  }
 ],
 "metadata": {
  "kernelspec": {
   "display_name": "Python 3 (ipykernel)",
   "language": "python",
   "name": "python3"
  },
  "language_info": {
   "codemirror_mode": {
    "name": "ipython",
    "version": 3
   },
   "file_extension": ".py",
   "mimetype": "text/x-python",
   "name": "python",
   "nbconvert_exporter": "python",
   "pygments_lexer": "ipython3",
   "version": "3.9.18"
  }
 },
 "nbformat": 4,
 "nbformat_minor": 5
}
