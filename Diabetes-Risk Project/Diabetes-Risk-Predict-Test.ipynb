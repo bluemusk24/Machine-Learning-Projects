{
 "cells": [
  {
   "cell_type": "code",
   "execution_count": 1,
   "id": "0656b06b-28aa-4949-870e-ededfac815cc",
   "metadata": {},
   "outputs": [],
   "source": [
    "import requests"
   ]
  },
  {
   "cell_type": "code",
   "execution_count": 2,
   "id": "5fc47c74-0057-40e2-81d0-42f338c72e50",
   "metadata": {},
   "outputs": [],
   "source": [
    "url = 'http://localhost:9696/predict'"
   ]
  },
  {
   "cell_type": "code",
   "execution_count": 3,
   "id": "3221b480-2221-4ecb-acd7-453c00f9cc43",
   "metadata": {},
   "outputs": [],
   "source": [
    "patient = {                                                # ensure double quote in json format\n",
    "    \"gender\": \"male\",\n",
    "    \"polyuria\": \"no\",\n",
    "    \"polydipsia\": \"no\",\n",
    "    \"sudden_weight_loss\": \"no\",\n",
    "    \"weakness\": \"yes\",\n",
    "    \"polyphagia\": \"no\",\n",
    "    \"genital_thrush\": \"yes\",\n",
    "    \"visual_blurring\": \"no\",\n",
    "    \"itching\": \"yes\",\n",
    "    \"irritability\": \"no\",\n",
    "    \"delayed_healing\": \"yes\",\n",
    "    \"partial_paresis\": \"no\",\n",
    "    \"muscle_stiffness\": \"no\",\n",
    "    \"alopecia\": \"yes\",\n",
    "    \"obesity\": \"no\",\n",
    "    \"age\": 61}"
   ]
  },
  {
   "cell_type": "code",
   "execution_count": 4,
   "id": "189afd8f-2659-47da-935e-92d544e4c13d",
   "metadata": {},
   "outputs": [
    {
     "data": {
      "text/plain": [
       "<Response [200]>"
      ]
     },
     "execution_count": 4,
     "metadata": {},
     "output_type": "execute_result"
    }
   ],
   "source": [
    "requests.post(url, json=patient)           #we send the patient as a post request to get a 200 response"
   ]
  },
  {
   "cell_type": "code",
   "execution_count": 5,
   "id": "6c7b71d1-9d36-4634-be34-1dfe9cfdba00",
   "metadata": {},
   "outputs": [
    {
     "data": {
      "text/plain": [
       "{'diabetes_risk': False, 'diabetes_risk_probability': 0.008195256268653259}"
      ]
     },
     "execution_count": 5,
     "metadata": {},
     "output_type": "execute_result"
    }
   ],
   "source": [
    "response = requests.post(url, json=patient).json()\n",
    "response                                               # .json() gives outcome to python dictionary"
   ]
  },
  {
   "cell_type": "code",
   "execution_count": 7,
   "id": "16de23d6-d4ec-4914-95af-4a3b8c089a22",
   "metadata": {},
   "outputs": [
    {
     "name": "stdout",
     "output_type": "stream",
     "text": [
      "patient has no symptoms of early-stage diabetes risk\n"
     ]
    }
   ],
   "source": [
    "if response['diabetes_risk'] == True:\n",
    "    print('start seeking medical attention to get insulin for diabetes treatment')\n",
    "else:\n",
    "    print('patient has no symptoms of early-stage diabetes risk')"
   ]
  },
  {
   "cell_type": "markdown",
   "id": "30e67214-75bb-4f69-b5e0-cb6f0162f1a2",
   "metadata": {},
   "source": [
    "#### Testing another patient"
   ]
  },
  {
   "cell_type": "code",
   "execution_count": 14,
   "id": "a61b4fb0-7caa-4134-b199-8856fac29857",
   "metadata": {},
   "outputs": [],
   "source": [
    "patient_1 = {\n",
    "    \"gender\": \"female\",\n",
    "    \"polyuria\": \"yes\",\n",
    "    \"polydipsia\": \"yes\",\n",
    "    \"sudden_weight_loss\": \"yes\",\n",
    "    \"weakness\": \"no\",\n",
    "    \"polyphagia\": \"yes\",\n",
    "    \"genital_thrush\": \"no\",\n",
    "    \"visual_blurring\": \"yes\",\n",
    "    \"itching\": \"no\",\n",
    "    \"irritability\": \"yes\",\n",
    "    \"delayed_healing\": \"no\",\n",
    "    \"partial_paresis\": \"yes\",\n",
    "    \"muscle_stiffness\": \"yes\",\n",
    "    \"alopecia\": \"no\",\n",
    "    \"obesity\": \"yes\",\n",
    "    \"age\": 30\n",
    "}"
   ]
  },
  {
   "cell_type": "code",
   "execution_count": 15,
   "id": "76e0d1b3-a5dc-4381-9aaa-2d9a44477d0a",
   "metadata": {},
   "outputs": [
    {
     "data": {
      "text/plain": [
       "<Response [200]>"
      ]
     },
     "execution_count": 15,
     "metadata": {},
     "output_type": "execute_result"
    }
   ],
   "source": [
    "requests.post(url, json=patient_1) "
   ]
  },
  {
   "cell_type": "code",
   "execution_count": 16,
   "id": "7e623d8d-fb51-4b15-86a4-8945b2f2523e",
   "metadata": {},
   "outputs": [
    {
     "data": {
      "text/plain": [
       "{'diabetes_risk': True, 'diabetes_risk_probability': 0.9999997473775736}"
      ]
     },
     "execution_count": 16,
     "metadata": {},
     "output_type": "execute_result"
    }
   ],
   "source": [
    "response = requests.post(url, json=patient_1).json()\n",
    "response     "
   ]
  },
  {
   "cell_type": "code",
   "execution_count": 17,
   "id": "6d70f539-48d2-4535-8ac4-faed13f4a2d1",
   "metadata": {},
   "outputs": [
    {
     "name": "stdout",
     "output_type": "stream",
     "text": [
      "start seeking medical attention to get insulin for diabetes treatment\n"
     ]
    }
   ],
   "source": [
    "if response['diabetes_risk'] == True:\n",
    "    print('start seeking medical attention to get insulin for diabetes treatment')\n",
    "else:\n",
    "    print('patient has no symptoms of early-stage diabetes risk')"
   ]
  },
  {
   "cell_type": "code",
   "execution_count": null,
   "id": "620b3daa-49d3-48cb-ba1d-1698b13bde7f",
   "metadata": {},
   "outputs": [],
   "source": []
  }
 ],
 "metadata": {
  "kernelspec": {
   "display_name": "Python 3 (ipykernel)",
   "language": "python",
   "name": "python3"
  },
  "language_info": {
   "codemirror_mode": {
    "name": "ipython",
    "version": 3
   },
   "file_extension": ".py",
   "mimetype": "text/x-python",
   "name": "python",
   "nbconvert_exporter": "python",
   "pygments_lexer": "ipython3",
   "version": "3.9.18"
  }
 },
 "nbformat": 4,
 "nbformat_minor": 5
}
